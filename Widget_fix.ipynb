{
 "cells": [
  {
   "cell_type": "code",
   "execution_count": 4,
   "id": "641ab985-84d7-475a-acc4-b1cca03accc9",
   "metadata": {},
   "outputs": [
    {
     "name": "stdout",
     "output_type": "stream",
     "text": [
      "Removed widgets from notebook metadata\n",
      "Removed 5 widget outputs\n",
      "Done! Notebook should render now.\n"
     ]
    }
   ],
   "source": [
    "import json\n",
    "\n",
    "with open('c:/users/hlmas/Desktop/MSc/Ethics/MSc-Ethics/Wk 3 HMa Comparing models LIME.ipynb', 'r', encoding='utf-8') as f:\n",
    "    notebook = json.load(f)\n",
    "\n",
    "# Remove widgets from metadata\n",
    "if 'widgets' in notebook.get('metadata', {}):\n",
    "    del notebook['metadata']['widgets']\n",
    "    print(\"Removed widgets from notebook metadata\")\n",
    "\n",
    "# Also check and clean each cell's metadata\n",
    "cells_cleaned = 0\n",
    "for cell in notebook.get('cells', []):\n",
    "    if 'widgets' in cell.get('metadata', {}):\n",
    "        del cell['metadata']['widgets']\n",
    "        cells_cleaned += 1\n",
    "\n",
    "if cells_cleaned > 0:\n",
    "    print(f\"Removed widgets from {cells_cleaned} cells\")\n",
    "\n",
    "# Remove any widget outputs from cells\n",
    "outputs_cleaned = 0\n",
    "for cell in notebook.get('cells', []):\n",
    "    if 'outputs' in cell:\n",
    "        new_outputs = []\n",
    "        for output in cell['outputs']:\n",
    "            # Skip widget outputs\n",
    "            if output.get('output_type') == 'display_data':\n",
    "                if 'application/vnd.jupyter.widget-view+json' not in output.get('data', {}):\n",
    "                    new_outputs.append(output)\n",
    "                else:\n",
    "                    outputs_cleaned += 1\n",
    "            else:\n",
    "                new_outputs.append(output)\n",
    "        cell['outputs'] = new_outputs\n",
    "\n",
    "if outputs_cleaned > 0:\n",
    "    print(f\"Removed {outputs_cleaned} widget outputs\")\n",
    "\n",
    "with open('c:/users/hlmas/Desktop/MSc/Ethics/MSc-Ethics/Wk 3 HMa Comparing models LIME.ipynb', 'w', encoding='utf-8') as f:\n",
    "    json.dump(notebook, f, indent=2, ensure_ascii=False)\n",
    "\n",
    "print(\"Done! Notebook should render now.\")"
   ]
  }
 ],
 "metadata": {
  "kernelspec": {
   "display_name": "Python (ML)",
   "language": "python",
   "name": "ml_env"
  },
  "language_info": {
   "codemirror_mode": {
    "name": "ipython",
    "version": 3
   },
   "file_extension": ".py",
   "mimetype": "text/x-python",
   "name": "python",
   "nbconvert_exporter": "python",
   "pygments_lexer": "ipython3",
   "version": "3.11.13"
  }
 },
 "nbformat": 4,
 "nbformat_minor": 5
}
